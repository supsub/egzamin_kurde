{
 "cells": [
  {
   "cell_type": "code",
   "execution_count": 28,
   "metadata": {},
   "outputs": [],
   "source": [
    "# -*- coding: utf-8 -*-\n",
    "import re \n",
    "import random\n",
    "from termcolor import colored\n",
    "from IPython.display import clear_output"
   ]
  },
  {
   "cell_type": "code",
   "execution_count": 29,
   "metadata": {},
   "outputs": [
    {
     "data": {
      "text/plain": [
       "''"
      ]
     },
     "execution_count": 29,
     "metadata": {},
     "output_type": "execute_result"
    }
   ],
   "source": [
    "lines = open('psitaniaABCD.txt', encoding='utf-8').read()\n",
    "lines = lines.replace(\"\\u200b\",\" \")\n",
    "for a in range (4):\n",
    "    lines = lines.replace(f\"{chr(a+65)})\",f\"{chr(a+97)}.\")\n",
    "for a in range (12):\n",
    "    lines = lines.replace(f\"{chr(a+97)}.\",f\"\\n{chr(a+97)}.\")\n",
    "parts = re.split('[0-9][0-9]?\\.',lines)\n",
    "parts.pop(0)"
   ]
  },
  {
   "cell_type": "code",
   "execution_count": 30,
   "metadata": {},
   "outputs": [],
   "source": [
    "def hard_action(shuffle = True, start_index = 0):\n",
    "    parts_copy = parts[start_index:].copy()\n",
    "    while True:\n",
    "        print(f\"Zostało {len(parts_copy)}/{len(parts)} pytań\")\n",
    "        if shuffle:\n",
    "            question= random.choice(parts_copy)\n",
    "        else:\n",
    "            question= parts_copy[0]\n",
    "        only_question = question[0].replace('#','')\n",
    "        qp = re.split('[a-h]\\.',question)\n",
    "        answers_numbers = [i for i,x in enumerate(qp) if '#' in x]\n",
    "        only_answers = [i.replace('#','') for i in qp[1:]]\n",
    "        mixed_answers = only_answers\n",
    "        random.shuffle(mixed_answers)\n",
    "        mixed_answers_numbers = [mixed_answers.index(qp[1:][i].replace('#','')) for i in answers_numbers]\n",
    "        new_question = qp[0].replace('#','')+''.join(['{}.{}'.format(chr(i+97),x) for i,x in enumerate(mixed_answers) ])\n",
    "        print(new_question)\n",
    "\n",
    "        user_answer = input(\"podaj odpowiedź\\n\")\n",
    "        user_answer = list(user_answer)\n",
    "\n",
    "        for i,answer in enumerate(mixed_answers):\n",
    "            if i in mixed_answers_numbers:\n",
    "                new_question = new_question.replace(answer,colored(answer,'green'))\n",
    "\n",
    "        clear_output()\n",
    "        print(new_question)\n",
    "\n",
    "        answers_letters = [chr(x+97) for x in mixed_answers_numbers]\n",
    "        answers_letters.sort()\n",
    "\n",
    "        print(\"Odpowiedzi: {}\\n\".format(answers_letters))\n",
    "        user_answer_numbers = [ord(i)-97 for i in user_answer]\n",
    "        user_answer_numbers.sort()\n",
    "        mixed_answers_numbers.sort()\n",
    "        user_answer.sort()\n",
    "        print(\"Your answer: {}\\n\".format(user_answer))\n",
    "        if user_answer_numbers != mixed_answers_numbers:\n",
    "            print(colored(\"No nie do końca dobrze...\",\"red\"))\n",
    "        else:\n",
    "            print(colored(\"Dobrze!\",\"green\"))\n",
    "        action = input(\"przejdź dalej dowolnym klawiszem, 'q' aby zrezygnować, dowolny napis żeby wywalić pytanie\\n\")\n",
    "        clear_output()\n",
    "        if action=='q':\n",
    "            break\n",
    "        if len(action)>0:\n",
    "            parts_copy.remove(question)\n",
    "        if len(parts_copy)==0:\n",
    "            print(\"BRAWOOOO\")\n",
    "            break"
   ]
  },
  {
   "cell_type": "code",
   "execution_count": 31,
   "metadata": {},
   "outputs": [
    {
     "name": "stdout",
     "output_type": "stream",
     "text": [
      "BRAWOOOO\n"
     ]
    }
   ],
   "source": [
    "hard_action()"
   ]
  }
 ],
 "metadata": {
  "kernelspec": {
   "display_name": "Python 3",
   "language": "python",
   "name": "python3"
  },
  "language_info": {
   "codemirror_mode": {
    "name": "ipython",
    "version": 3
   },
   "file_extension": ".py",
   "mimetype": "text/x-python",
   "name": "python",
   "nbconvert_exporter": "python",
   "pygments_lexer": "ipython3",
   "version": "3.7.3"
  }
 },
 "nbformat": 4,
 "nbformat_minor": 2
}
