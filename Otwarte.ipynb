{
 "cells": [
  {
   "cell_type": "code",
   "execution_count": 14,
   "metadata": {},
   "outputs": [],
   "source": [
    "# -*- coding: utf-8 -*-\n",
    "import re \n",
    "import random\n",
    "from termcolor import colored\n",
    "from IPython.display import clear_output\n",
    "from IPython.display import Image, display\n",
    "from IPython.core.display import HTML "
   ]
  },
  {
   "cell_type": "code",
   "execution_count": 19,
   "metadata": {},
   "outputs": [
    {
     "name": "stdout",
     "output_type": "stream",
     "text": [
      "Zdanie wieloznaczne \n",
      "\n",
      "\u001b[32mJeżeli istnieje więcej niż jedno drzewo syntaktyczne wprowadzania tego zdania.\u001b[0m\n"
     ]
    },
    {
     "name": "stdin",
     "output_type": "stream",
     "text": [
      "przejdź dalej enterem, 'q' aby zrezygnować, wpisz dowolny napis żeby wywalić pytanie\n",
      " q\n"
     ]
    }
   ],
   "source": [
    "shuffle = True # < ------------ TO SOBIE MODYFIKUJCIE W ZALEŻNOŚCI CZY CHCECIE MIEĆ PYTANIA PO KOLEI CZY NIE\n",
    "\n",
    "#filename = 'soatania.txt'\n",
    "#filename = 'psitania.txt'\n",
    "filename = 'kompitania.txt'\n",
    "\n",
    "lines = open(filename, encoding='utf-8').read()\n",
    "lines = lines.replace(\"\\u200b\",\" \").replace(\"●\",\"\\n● \")\n",
    "lines = re.sub(' +', ' ', lines)\n",
    "parts = re.split('[^-][0-9][0-9]?[0-9]?\\.',lines)\n",
    "#parts.pop(0)\n",
    "initial_length = len(parts)\n",
    "while True:\n",
    "    print(\"Zostało {}/{} pytań\".format(len(parts),initial_length))\n",
    "    if len(parts)==0:\n",
    "        clear_output()\n",
    "        print(\"BRAWOOOOOOO!!\")\n",
    "        break\n",
    "    if not shuffle:\n",
    "        part = parts[0]\n",
    "    else:\n",
    "        part = random.choice(parts)\n",
    "    question = re.split('\\n',part)[0]\n",
    "    answer = re.split('\\n',part)[1:]\n",
    "    print(question,\"\\n\")\n",
    "    user_ans = input(\"Kliknij enter żeby zobaczyć odpowiedź: \\n\")\n",
    "    clear_output()\n",
    "    print(question,\"\\n\")\n",
    "    for el in answer:\n",
    "        url = re.findall('http.*\\.png|http.*\\.jpg', el)\n",
    "        if len(url)>0:\n",
    "            display(Image(url = url[0],width=250, height=250))\n",
    "        else:\n",
    "            print(colored(\"{}\".format(el),\"green\"))\n",
    "    next_action = input(\"przejdź dalej enterem, 'q' aby zrezygnować, wpisz dowolny napis żeby wywalić pytanie\\n\")\n",
    "    if next_action=='q':\n",
    "        break\n",
    "    if len(list(next_action))>0:\n",
    "        parts.remove(part)\n",
    "    clear_output()"
   ]
  }
 ],
 "metadata": {
  "kernelspec": {
   "display_name": "Python 3",
   "language": "python",
   "name": "python3"
  },
  "language_info": {
   "codemirror_mode": {
    "name": "ipython",
    "version": 3
   },
   "file_extension": ".py",
   "mimetype": "text/x-python",
   "name": "python",
   "nbconvert_exporter": "python",
   "pygments_lexer": "ipython3",
   "version": "3.7.3"
  }
 },
 "nbformat": 4,
 "nbformat_minor": 2
}
